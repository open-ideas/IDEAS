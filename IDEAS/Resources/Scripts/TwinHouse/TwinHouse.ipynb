{
 "cells": [
  {
   "cell_type": "code",
   "execution_count": 22,
   "metadata": {
    "collapsed": true
   },
   "outputs": [],
   "source": [
    "#!/usr/bin/python\n",
    "\"\"\"Set up and run simulations in Dymola, and then plot the results.\n",
    "\"\"\"\n",
    "__author__ = \"Filip Jorissen\"\n",
    "__version__ = \"2017-01-23\"\n",
    "\n",
    "import os\n",
    "import matplotlib.pyplot as plt\n",
    "import numpy as np\n",
    "import re\n",
    "\n",
    "from matplotlib import gridspec\n",
    "from modelicares import gen_experiments, Experiment, SimResList, write_script, saveall\n",
    "\n",
    "def merge_gens(gen1, gen2):\n",
    "    result = []\n",
    "    for i in gen1:\n",
    "        result.append(i)\n",
    "    for i in gen2:\n",
    "        result.append(i)\n",
    "    return result\n",
    "\n",
    "def plott(sim, name, coeffTime=1, coeffVar=1, offsetVar=0, offsetTime=0, ran=[0], **args):\n",
    "    var = sim[name]\n",
    "    time = sim[\"Time\"]\n",
    "    if ran == [0]:\n",
    "        plt.plot((time.values()[0] + offsetTime)*coeffTime,(var.values()[0]+offsetVar)*coeffVar, **args)\n",
    "    else:\n",
    "        plt.plot((time.values()[0][ran] + offsetTime)*coeffTime,(var.values()[0][ran]+offsetVar)*coeffVar, **args)\n"
   ]
  },
  {
   "cell_type": "code",
   "execution_count": 23,
   "metadata": {
    "collapsed": false
   },
   "outputs": [],
   "source": [
    "# Based on code from Kevin Davies - ModelicaRes\n",
    "# Name of the Modelica script (may include the path)\n",
    "FNAME = 'run_sims.mos'\n",
    "\n",
    "# Working directory\n",
    "WORKING_DIR = '/tmp/scripts'\n",
    "\n",
    "# List of Modelica packages that should be preloaded (besides the Modelica\n",
    "# Standard Library)\n",
    "# Each may be a *.mo file or a path where a package.mo file resides, e.g.,\n",
    "# \"/opt/dymola/Modelica/Library/VehicleInterfaces 1.1.1\".\n",
    "#PACKAGES = [\"/home/filipjorissen/dymola.mos\"]\n",
    "\n",
    "# Using dymola.mos instead of named startup script\n",
    "PACKAGES = [\"\"]   \n",
    "\n",
    "FIGPATH=\"/media/psf/Home/Documents/Software/IDEAS-git/IDEAS/Resources/Images/TwinHouse/\"\n",
    "\n",
    "start = 8e6;\n",
    "end = 1.23e7;\n",
    "\n",
    "values = 5000;\n",
    "\n",
    "\n",
    "# List or generator of simulations to run\n",
    "EXPERIMENTS=gen_experiments(models=[\"IDEAS.Examples.TwinHouses.BuildingN2_Exp2\"],\n",
    "                             args=dict(startTime=[start],stopTime=[end], method=['\\\"LSodar\\\"'], numberOfIntervals=[values]))\n",
    "\n",
    "\n",
    "# Formats in which to save the figures (e.g., ['pdf', 'eps', 'svg', 'png'])\n",
    "# If the figures shouldn't be saved, specify an empty list.\n",
    "FORMATS = ['pdf', 'eps']\n",
    "\n",
    "MODELS, RESULTS_DIR = write_script(EXPERIMENTS, working_dir=WORKING_DIR,\n",
    "                                       packages=PACKAGES, fname=FNAME)\t\t\n",
    "                                       \n",
    "                                    \n",
    "\n",
    "\n",
    "\n",
    "\n"
   ]
  },
  {
   "cell_type": "code",
   "execution_count": 46,
   "metadata": {
    "collapsed": false
   },
   "outputs": [
    {
     "data": {
      "text/plain": [
       "0"
      ]
     },
     "execution_count": 46,
     "metadata": {},
     "output_type": "execute_result"
    }
   ],
   "source": [
    "# For Linux:\n",
    "# need to add :\n",
    "# Evaluate=true;\n",
    "# Advanced.EfficientMinorEvents=true;\n",
    "# to run_sims.mos script for getting fast simulation!\n",
    "os.system('dymola ' + FNAME)"
   ]
  },
  {
   "cell_type": "code",
   "execution_count": 74,
   "metadata": {
    "collapsed": false
   },
   "outputs": [
    {
     "data": {
      "text/plain": [
       "8858280.0"
      ]
     },
     "execution_count": 74,
     "metadata": {},
     "output_type": "execute_result"
    }
   ],
   "source": [
    "sim[\"struct.Living.TAir\"].times()[0][1000]"
   ]
  },
  {
   "cell_type": "code",
   "execution_count": null,
   "metadata": {
    "collapsed": false,
    "scrolled": false
   },
   "outputs": [],
   "source": [
    "import matplotlib.dates as md\n",
    "\n",
    "\n",
    "sim = SimResList(os.path.join(RESULTS_DIR, str(1), 'dsres.mat'))\n",
    "fig=plt.figure(figsize=(10,10))\n",
    "\n",
    "ranStart=1160\n",
    "ran=range(ranStart,5000)\n",
    "\n",
    "plotStart= - md.epoch2num(1388530800)*3600*24\n",
    "\n",
    "rangeStart=-plotStart/3600/24 + sim[\"struct.Living.TAir\"].times()[0][ranStart]/3600/24\n",
    "\n",
    "\n",
    "legendsize=10\n",
    "\n",
    "gs = gridspec.GridSpec(4,1,height_ratios=[1,1,1,2])\n",
    "\n",
    "\n",
    "ax0 = plt.subplot(gs[0])    \n",
    "plt.setp(ax0.get_xticklabels(), visible=False)\n",
    "plott(sim, \"heaSys.heaSche.Pel_IDEAL[1]\", lw=0.5, ran=ran, coeffTime=1./3600/24, offsetTime=-plotStart, coeffVar=1, label=\"M\")\n",
    "plott(sim, \"heaSys.Qhea[1]\", lw=0.5, ran=ran, coeffTime=1./3600/24, offsetTime=-plotStart, coeffVar=1, label=\"S\")\n",
    "\n",
    "plt.legend(loc=2,ncol=2,prop={'size':legendsize})\n",
    "plt.ylim([0,2500])\n",
    "ax0.grid(True)\n",
    "plt.ylabel(\"Radiator thermal \\n power [W]\")\n",
    "\n",
    "\n",
    "ax1 = plt.subplot(gs[1], sharex=ax0)    \n",
    "plt.setp(ax1.get_xticklabels(), visible=False)\n",
    "plott(sim, \"validationDataExp2_1.living_h010cm_AT\", lw=0.5, ran=ran, coeffTime=1./3600/24, offsetTime=-plotStart, offsetVar=-273.15, coeffVar=1, label=\"M: h = 10 cm\")\n",
    "plott(sim, \"validationDataExp2_1.living_h110cm_AT\", lw=0.5, ran=ran, coeffTime=1./3600/24, offsetTime=-plotStart, offsetVar=-273.15, coeffVar=1, label=\"M: h = 110 cm\")\n",
    "plott(sim, \"validationDataExp2_1.living_h170cm_AT\", lw=0.5, ran=ran, coeffTime=1./3600/24, offsetTime=-plotStart, offsetVar=-273.15, coeffVar=1, label=\"M: h = 170 cm\")\n",
    "plott(sim, \"struct.Living.TAir\", lw=0.5, ran=ran, coeffTime=1./3600/24, offsetTime=-plotStart, offsetVar=-273.15, coeffVar=1, label=\"S\")\n",
    "# plt.xlim([0,800/24])\n",
    "plt.ylim([20,42])\n",
    "plt.ylabel(\"Air temperature \\n at height h [$^{\\circ}$C]\")\n",
    "ax1.grid(True)\n",
    "plt.legend(loc=2,ncol=2,prop={'size':legendsize})\n",
    "\n",
    "\n",
    "ax2 = plt.subplot(gs[2], sharex=ax0)    \n",
    "plt.setp(ax2.get_xticklabels(), visible=False)\n",
    "plott(sim, \"struct.W30.gainDir.y\", lw=0.5, ran=ran, coeffTime=1./3600/24, offsetTime=-plotStart, coeffVar=1, label=\"Door dir\")\n",
    "plott(sim, \"struct.W30.gainDif.y\", lw=0.5, ran=ran, coeffTime=1./3600/24, offsetTime=-plotStart, coeffVar=1, label=\"Door dif\")\n",
    "plott(sim, \"struct.W31.gainDir.y\", lw=0.5, ran=ran, coeffTime=1./3600/24, offsetTime=-plotStart, coeffVar=1, label=\"South dir\")\n",
    "plott(sim, \"struct.W31.gainDif.y\", lw=0.5, ran=ran, coeffTime=1./3600/24, offsetTime=-plotStart, coeffVar=1, label=\"South dif\")\n",
    "plott(sim, \"struct.W32.gainDir.y\", lw=0.5, ran=ran, coeffTime=1./3600/24, offsetTime=-plotStart, coeffVar=1, label=\"West dir\")\n",
    "plott(sim, \"struct.W32.gainDif.y\", lw=0.5, ran=ran, coeffTime=1./3600/24, offsetTime=-plotStart, coeffVar=1, label=\"West dif\")\n"
    "plt.ylabel(\"Exterior solar \\n irradiation [W]\")\n",
    "# plt.xlim([0,800/24])\n",
    "ax2.grid(True)\n",
    "plt.legend(loc=2,ncol=3,prop={'size':legendsize})\n",
    "\n",
    "\n",
    "\n",
    "ax3 = plt.subplot(gs[3], sharex=ax0)    \n",
    "# plt.setp(ax0.get_xticklabels(), visible=False)\n",
    "plott(sim, \"validationDataExp2_1.living_h110cm_AT\", lw=0.5, ls='--', dashes=(2, 2), color='r',  ran=ran, coeffTime=1./3600/24, offsetTime=-plotStart, offsetVar=-273.15, label=\"M: air 110 cm\")\n",
    "plott(sim, \"struct.heatPortCon[1].T\", lw=0.5, color='r',  ran=ran, coeffTime=1./3600/24, offsetTime=-plotStart, offsetVar=-273.15, label=\"S: air\")\n",
    "plott(sim, \"validationDataExp2_1.living_westfacade_S_IS_T\", lw=0.5, color='g', ls='--', dashes=(2, 2), ran=ran, coeffTime=1./3600/24, offsetTime=-plotStart, offsetVar=-273.15, label=\"M: inner surface\")\n",
    "plott(sim, \"struct.W9.layMul.port_a.T\", lw=0.5, color='g',  ran=ran, coeffTime=1./3600/24, offsetTime=-plotStart, offsetVar=-273.15, label=\"S: inner surface\")\n",
    "plott(sim, \"validationDataExp2_1.living_westfacade_S_BL1_T\", color='b', lw=0.5, ls='--', dashes=(2, 2),  ran=ran, coeffTime=1./3600/24, offsetTime=-plotStart, offsetVar=-273.15, label=\"M: core\")\n",
    "plott(sim, \"struct.W9.layMul.port_gain[3].T\", color='b', lw=0.5, ran=ran, coeffTime=1./3600/24, offsetTime=-plotStart, offsetVar=-273.15, label=\"S: core\")\n",
    "plott(sim, \"validationDataExp2_1.living_westfacade_S_ES_T\", lw=0.5, dashes=(2, 2), ls='--', color='m',  ran=ran, coeffTime=1./3600/24, offsetTime=-plotStart, offsetVar=-273.15, label=\"M: outer surface\")\n",
    "plott(sim, \"struct.W9.layMul.port_b.T\", lw=0.5, color='m',  ran=ran, coeffTime=1./3600/24, offsetTime=-plotStart, offsetVar=-273.15, label=\"S: outer surface\")\n",
    "plott(sim, \"sim.Te\", lw=0.5, ls='--', dashes=(2, 2), color='c',  ran=ran, coeffTime=1./3600/24, offsetTime=-plotStart, offsetVar=-273.15, label=\"M: exterior\")\n",
    "plott(sim, \"validationDataExp2_1.living_h170cm_AT\", lw=0.5, ls='--', dashes=(2, 2), color='k',  ran=ran, coeffTime=1./3600/24, offsetTime=-plotStart, offsetVar=-273.15, label=\"M: air 170 cm\")\n",
    "plt.ylabel(\"Wall section temperatures [$^{\\circ}$C]\")\n",
    "\n",
    "# plt.xlim([0,800/24])\n",
    "ax3.grid(True)\n",
    "plt.ylim([0,50])\n",
    "plt.legend(loc=2,ncol=5,prop={'size':legendsize})\n",
    "plt.xlabel(\"Date\")\n",
    "plt.xlim([rangeStart,rangeStart+33])\n",
    "\n",
    "ax=plt.gca()\n",
    "ax.xaxis_date()\n",
    "xfmt = md.DateFormatter('%Y-%m-%d')\n",
    "ax.xaxis.set_major_formatter(xfmt)\n",
    "\n",
    "plt.tight_layout()\n",
    "\n",
    "plt.savefig(FIGPATH + \"TwinHouse.eps\")\n",
    "plt.savefig(FIGPATH + \"TwinHouse.pdf\")\n",
    "\n",
    "plt.show()\n"
   ]
  },
  {
   "cell_type": "code",
   "execution_count": 22,
   "metadata": {
    "collapsed": false
   },
   "outputs": [],
   "source": [
    "# t0=1.45567e9\n",
    "\n",
    "\n",
    "# for i in range(2):\n",
    "#     fig=plt.figure(figsize=(14,4))\n",
    "    \n",
    "#     if i ==1:\n",
    "#         deltaTime=2.5e6\n",
    "#         startTime=t0\n",
    "#     else:\n",
    "#         deltaTime=3600*24*5\n",
    "#         startTime=1.4561e9\n",
    "#     endTime=startTime+deltaTime\n",
    "\n",
    "#     times=sim[\"Time\"].values()\n",
    "#     indexStart=(np.abs(sim[\"Time\"].values()-startTime*np.ones(len(times)))).argmin()\n",
    "#     indexEnd=(np.abs(sim[\"Time\"].values()-endTime*np.ones(len(times)))).argmin()\n",
    "#     ran=range(indexStart,indexEnd)\n",
    "\n",
    "#     times2=sim2[\"Time\"].values()\n",
    "#     indexStart2=(np.abs(sim2[\"Time\"].values()-startTime*np.ones(len(times2)))).argmin()\n",
    "#     indexEnd2=(np.abs(sim2[\"Time\"].values()-endTime*np.ones(len(times2)))).argmin()\n",
    "#     ran2=range(indexStart2,indexEnd2)\n",
    "\n",
    "\n",
    "#     legendsize=10\n",
    "\n",
    "#     gs = gridspec.GridSpec(3,1,height_ratios=[2,1,1])\n",
    "\n",
    "#     ax0 = plt.subplot(gs[0])\n",
    "#     plt.setp(ax0.get_xticklabels(), visible=False)\n",
    "#     plott(sim2, \"addMeas.y\", ran=ran2, offsetTime=-t0, coeffTime=1./3600/24, label=\"Measurement\")\n",
    "#     plott(sim2, \"addSim.y\",ran=ran2, offsetTime=-t0, coeffTime=1./3600/24, label=\"Estimation\")\n",
    "#     plt.legend(loc=1,ncol=4,prop={'size':legendsize})\n",
    "#     plt.ylabel('Occupancy')\n",
    "#     plt.ylim([-3,25])\n",
    "\n",
    "#     ax1 = plt.subplot(gs[1],sharex=ax0)  \n",
    "#     plott(sim2, \"dataBus1.FJ_vav_w04\",ran=ran2, offsetTime=-t0, coeffTime=1./3600/24)\n",
    "#     plott(sim2, \"dataBus1.FJ_vav_w05\",ran=ran2, offsetTime=-t0, coeffTime=1./3600/24)\n",
    "#     plott(sim2, \"dataBus1.FJ_vav_w06\",ran=ran2, offsetTime=-t0, coeffTime=1./3600/24)\n",
    "#     plt.setp(ax1.get_xticklabels(), visible=False)\n",
    "#     plt.ylabel('VAV control \\n signals y\\' ')\n",
    "#     plt.ylim([-0.2,1.2])\n",
    "#     plt.yticks([0,1])\n",
    "\n",
    "#     ax1 = plt.subplot(gs[2],sharex=ax0)    \n",
    "#     plott(sim, \"ppm_out[18]\",ran=ran, offsetTime=-t0, coeffTime=1./3600/24, label=\"Zone\")\n",
    "#     plott(sim, \"ppm_ext1\",ran=ran, offsetTime=-t0, coeffTime=1./3600/24, label=\"External\")\n",
    "#     plt.ylabel('PPM')\n",
    "#     plt.ylim([350,800])\n",
    "#     plt.xlabel('Time [days]')\n",
    "#     plt.xlim([(0 if i ==1 else 5),(27 if i ==1 else 10)])\n",
    "#     plt.legend(loc=1,ncol=2,prop={'size':legendsize})\n",
    "#     plt.yticks([400,600,800])\n",
    "\n",
    "\n",
    "\n",
    "\n",
    "\n",
    "#     plt.tight_layout()\n",
    "\n",
    "#     plt.savefig(os.path.join(FIGPATH, \"occupancyValidation\" +str(i) + \".pdf\"))\n",
    "\n",
    "#     plt.show()"
   ]
  },
  {
   "cell_type": "code",
   "execution_count": 27,
   "metadata": {
    "collapsed": false
   },
   "outputs": [],
   "source": []
  },
  {
   "cell_type": "code",
   "execution_count": null,
   "metadata": {
    "collapsed": false
   },
   "outputs": [],
   "source": []
  },
  {
   "cell_type": "code",
   "execution_count": 28,
   "metadata": {
    "collapsed": false
   },
   "outputs": [],
   "source": []
  },
  {
   "cell_type": "code",
   "execution_count": null,
   "metadata": {
    "collapsed": false
   },
   "outputs": [],
   "source": []
  },
  {
   "cell_type": "code",
   "execution_count": null,
   "metadata": {
    "collapsed": false
   },
   "outputs": [],
   "source": []
  },
  {
   "cell_type": "code",
   "execution_count": null,
   "metadata": {
    "collapsed": true
   },
   "outputs": [],
   "source": []
  },
  {
   "cell_type": "code",
   "execution_count": null,
   "metadata": {
    "collapsed": true
   },
   "outputs": [],
   "source": []
  }
 ],
 "metadata": {
  "kernelspec": {
   "display_name": "Python 2",
   "language": "python",
   "name": "python2"
  },
  "language_info": {
   "codemirror_mode": {
    "name": "ipython",
    "version": 2
   },
   "file_extension": ".py",
   "mimetype": "text/x-python",
   "name": "python",
   "nbconvert_exporter": "python",
   "pygments_lexer": "ipython2",
   "version": "2.7.6"
  }
 },
 "nbformat": 4,
 "nbformat_minor": 0
}
